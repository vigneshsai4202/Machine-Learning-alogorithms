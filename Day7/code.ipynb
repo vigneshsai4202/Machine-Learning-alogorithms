{
 "cells": [
  {
   "cell_type": "markdown",
   "id": "1b25bb5e",
   "metadata": {},
   "source": [
    "Common Tensor Operations"
   ]
  },
  {
   "cell_type": "code",
   "execution_count": 13,
   "id": "2ef33758",
   "metadata": {},
   "outputs": [],
   "source": [
    "import numpy as np\n",
    "import torch"
   ]
  },
  {
   "cell_type": "code",
   "execution_count": 11,
   "id": "7fefce36",
   "metadata": {},
   "outputs": [
    {
     "data": {
      "text/plain": [
       "([25, 4], [4, 5], [7, 8])"
      ]
     },
     "execution_count": 11,
     "metadata": {},
     "output_type": "execute_result"
    }
   ],
   "source": [
    "X=([25,4],[4,5],[7,8])\n",
    "X"
   ]
  },
  {
   "cell_type": "code",
   "execution_count": 12,
   "id": "d5c887f7",
   "metadata": {},
   "outputs": [
    {
     "data": {
      "text/plain": [
       "array([[25,  4,  7],\n",
       "       [ 4,  5,  8]])"
      ]
     },
     "execution_count": 12,
     "metadata": {},
     "output_type": "execute_result"
    }
   ],
   "source": [
    "x_t = np.array(X).T\n",
    "x_t"
   ]
  },
  {
   "cell_type": "code",
   "execution_count": 14,
   "id": "edec4bc5",
   "metadata": {},
   "outputs": [],
   "source": [
    "X_pt=torch.tensor(X) "
   ]
  },
  {
   "cell_type": "code",
   "execution_count": 15,
   "id": "01a6bf4c",
   "metadata": {},
   "outputs": [
    {
     "data": {
      "text/plain": [
       "tensor([[25,  4,  7],\n",
       "        [ 4,  5,  8]])"
      ]
     },
     "execution_count": 15,
     "metadata": {},
     "output_type": "execute_result"
    }
   ],
   "source": [
    "X_pt.T"
   ]
  },
  {
   "cell_type": "code",
   "execution_count": null,
   "id": "9c461fca",
   "metadata": {},
   "outputs": [],
   "source": [
    "tf.transpose(X_tf) # less Pythonic"
   ]
  },
  {
   "cell_type": "markdown",
   "id": "ae6aad0b",
   "metadata": {},
   "source": [
    "Basic Arithmetical Properties\n",
    "Adding or multiplying with scalar applies operation to all elements and tensor shape is retained:\n"
   ]
  },
  {
   "cell_type": "code",
   "execution_count": 17,
   "id": "66bc91a9",
   "metadata": {},
   "outputs": [],
   "source": [
    "Y = np.array([[25, 2], [5, 26], [3, 7]])"
   ]
  },
  {
   "cell_type": "code",
   "execution_count": 18,
   "id": "646cadc4",
   "metadata": {},
   "outputs": [
    {
     "data": {
      "text/plain": [
       "array([[50,  4],\n",
       "       [10, 52],\n",
       "       [ 6, 14]])"
      ]
     },
     "execution_count": 18,
     "metadata": {},
     "output_type": "execute_result"
    }
   ],
   "source": [
    "Y*2"
   ]
  },
  {
   "cell_type": "code",
   "execution_count": 23,
   "id": "3e5546f5",
   "metadata": {},
   "outputs": [
    {
     "data": {
      "text/plain": [
       "array([[27,  4],\n",
       "       [ 7, 28],\n",
       "       [ 5,  9]])"
      ]
     },
     "execution_count": 23,
     "metadata": {},
     "output_type": "execute_result"
    }
   ],
   "source": [
    "Y+2"
   ]
  },
  {
   "cell_type": "code",
   "execution_count": 24,
   "id": "836d12d6",
   "metadata": {},
   "outputs": [
    {
     "data": {
      "text/plain": [
       "array([[52,  6],\n",
       "       [12, 54],\n",
       "       [ 8, 16]])"
      ]
     },
     "execution_count": 24,
     "metadata": {},
     "output_type": "execute_result"
    }
   ],
   "source": [
    "Y*2+2"
   ]
  },
  {
   "cell_type": "code",
   "execution_count": 25,
   "id": "5ce4ff07",
   "metadata": {},
   "outputs": [
    {
     "data": {
      "text/plain": [
       "tensor([[52, 10],\n",
       "        [10, 12],\n",
       "        [16, 18]])"
      ]
     },
     "execution_count": 25,
     "metadata": {},
     "output_type": "execute_result"
    }
   ],
   "source": [
    "X_pt*2+2"
   ]
  },
  {
   "cell_type": "code",
   "execution_count": 26,
   "id": "8282d467",
   "metadata": {},
   "outputs": [
    {
     "data": {
      "text/plain": [
       "tensor([[52, 10],\n",
       "        [10, 12],\n",
       "        [16, 18]])"
      ]
     },
     "execution_count": 26,
     "metadata": {},
     "output_type": "execute_result"
    }
   ],
   "source": [
    "torch.add(torch.mul(X_pt, 2), 2)"
   ]
  },
  {
   "cell_type": "code",
   "execution_count": null,
   "id": "4e1708c4",
   "metadata": {},
   "outputs": [],
   "source": [
    "X_tf*2+2"
   ]
  },
  {
   "cell_type": "code",
   "execution_count": null,
   "id": "41f159e5",
   "metadata": {},
   "outputs": [],
   "source": [
    "tf.add(tf.multiply(X_tf, 2), 2)"
   ]
  },
  {
   "cell_type": "markdown",
   "id": "ddd383ef",
   "metadata": {},
   "source": [
    "If two tensors have the same size, operations are often by default applied element-wise. This is not matrix multiplication, which we'll cover later, but is rather called the Hadamard product or simply the element-wise product."
   ]
  },
  {
   "cell_type": "code",
   "execution_count": 27,
   "id": "65ae5aef",
   "metadata": {},
   "outputs": [
    {
     "data": {
      "text/plain": [
       "array([[25,  2],\n",
       "       [ 5, 26],\n",
       "       [ 3,  7]])"
      ]
     },
     "execution_count": 27,
     "metadata": {},
     "output_type": "execute_result"
    }
   ],
   "source": [
    "Y"
   ]
  },
  {
   "cell_type": "code",
   "execution_count": 29,
   "id": "697955a1",
   "metadata": {},
   "outputs": [
    {
     "data": {
      "text/plain": [
       "array([[27,  4],\n",
       "       [ 7, 28],\n",
       "       [ 5,  9]])"
      ]
     },
     "execution_count": 29,
     "metadata": {},
     "output_type": "execute_result"
    }
   ],
   "source": [
    "A=Y+2\n",
    "A"
   ]
  },
  {
   "cell_type": "code",
   "execution_count": 30,
   "id": "89393859",
   "metadata": {},
   "outputs": [
    {
     "data": {
      "text/plain": [
       "array([[52,  6],\n",
       "       [12, 54],\n",
       "       [ 8, 16]])"
      ]
     },
     "execution_count": 30,
     "metadata": {},
     "output_type": "execute_result"
    }
   ],
   "source": [
    "A+Y"
   ]
  },
  {
   "cell_type": "code",
   "execution_count": 31,
   "id": "ce64cd52",
   "metadata": {},
   "outputs": [
    {
     "data": {
      "text/plain": [
       "array([[675,   8],\n",
       "       [ 35, 728],\n",
       "       [ 15,  63]])"
      ]
     },
     "execution_count": 31,
     "metadata": {},
     "output_type": "execute_result"
    }
   ],
   "source": [
    "A*Y"
   ]
  },
  {
   "cell_type": "code",
   "execution_count": 32,
   "id": "d20f3606",
   "metadata": {},
   "outputs": [
    {
     "data": {
      "text/plain": [
       "tensor([[27,  4],\n",
       "        [ 7, 28],\n",
       "        [ 5,  9]], dtype=torch.int32)"
      ]
     },
     "execution_count": 32,
     "metadata": {},
     "output_type": "execute_result"
    }
   ],
   "source": [
    "y_pt=torch.tensor(Y)\n",
    "A_pt=y_pt+2\n",
    "A_pt"
   ]
  },
  {
   "cell_type": "code",
   "execution_count": 33,
   "id": "e2a0ee01",
   "metadata": {},
   "outputs": [
    {
     "data": {
      "text/plain": [
       "tensor([[675,   8],\n",
       "        [ 35, 728],\n",
       "        [ 15,  63]], dtype=torch.int32)"
      ]
     },
     "execution_count": 33,
     "metadata": {},
     "output_type": "execute_result"
    }
   ],
   "source": [
    "A_pt*y_pt"
   ]
  },
  {
   "cell_type": "code",
   "execution_count": null,
   "id": "76121d79",
   "metadata": {},
   "outputs": [],
   "source": [
    "A_tf = X_tf + 2"
   ]
  },
  {
   "cell_type": "code",
   "execution_count": null,
   "id": "ba58b926",
   "metadata": {},
   "outputs": [],
   "source": [
    "A_tf + X_tf"
   ]
  },
  {
   "cell_type": "code",
   "execution_count": null,
   "id": "f718f12f",
   "metadata": {},
   "outputs": [],
   "source": [
    "A_tf * X_tf"
   ]
  },
  {
   "cell_type": "markdown",
   "id": "b76bbc8b",
   "metadata": {},
   "source": [
    "Reduction\n",
    "Calculating the sum across all elements of a tensor is a common operation."
   ]
  },
  {
   "cell_type": "code",
   "execution_count": 34,
   "id": "24d90f27",
   "metadata": {},
   "outputs": [
    {
     "data": {
      "text/plain": [
       "array([[25,  2],\n",
       "       [ 5, 26],\n",
       "       [ 3,  7]])"
      ]
     },
     "execution_count": 34,
     "metadata": {},
     "output_type": "execute_result"
    }
   ],
   "source": [
    "Y"
   ]
  },
  {
   "cell_type": "code",
   "execution_count": 37,
   "id": "fecde0e0",
   "metadata": {},
   "outputs": [
    {
     "data": {
      "text/plain": [
       "68"
      ]
     },
     "execution_count": 37,
     "metadata": {},
     "output_type": "execute_result"
    }
   ],
   "source": [
    "Y.sum()"
   ]
  },
  {
   "cell_type": "code",
   "execution_count": 39,
   "id": "4ac58a7f",
   "metadata": {},
   "outputs": [
    {
     "data": {
      "text/plain": [
       "tensor(68)"
      ]
     },
     "execution_count": 39,
     "metadata": {},
     "output_type": "execute_result"
    }
   ],
   "source": [
    "torch.sum(y_pt)"
   ]
  },
  {
   "cell_type": "code",
   "execution_count": null,
   "id": "69b87d36",
   "metadata": {},
   "outputs": [],
   "source": [
    "tf.reduce_sum(X_tf)"
   ]
  },
  {
   "cell_type": "code",
   "execution_count": 41,
   "id": "a357de23",
   "metadata": {},
   "outputs": [
    {
     "data": {
      "text/plain": [
       "array([33, 35])"
      ]
     },
     "execution_count": 41,
     "metadata": {},
     "output_type": "execute_result"
    }
   ],
   "source": [
    "# Can also be done along one specific axis alone, e.g.:\n",
    "Y.sum(axis=0) # summing over all rows"
   ]
  },
  {
   "cell_type": "code",
   "execution_count": 42,
   "id": "57200233",
   "metadata": {},
   "outputs": [
    {
     "data": {
      "text/plain": [
       "array([27, 31, 10])"
      ]
     },
     "execution_count": 42,
     "metadata": {},
     "output_type": "execute_result"
    }
   ],
   "source": [
    "Y.sum(axis=1)"
   ]
  },
  {
   "cell_type": "code",
   "execution_count": 43,
   "id": "a53befc3",
   "metadata": {},
   "outputs": [
    {
     "data": {
      "text/plain": [
       "tensor([33, 35])"
      ]
     },
     "execution_count": 43,
     "metadata": {},
     "output_type": "execute_result"
    }
   ],
   "source": [
    "torch.sum(y_pt, axis=0) # summing over all rows"
   ]
  },
  {
   "cell_type": "code",
   "execution_count": null,
   "id": "656b092c",
   "metadata": {},
   "outputs": [],
   "source": [
    "tf.reduce_sum(X_tf, 1)"
   ]
  },
  {
   "cell_type": "markdown",
   "id": "cb7f13c9",
   "metadata": {},
   "source": [
    "Many other operations can be applied with reduction along all or a selection of axes, e.g.:\n",
    "\n",
    "1.maximum\n",
    "2.minimum\n",
    "3.mean\n",
    "4.product"
   ]
  },
  {
   "cell_type": "markdown",
   "id": "8b894002",
   "metadata": {},
   "source": [
    "DOT PRODUCT\n",
    "\n",
    "- The dot product (also called the inner product) is a fundamental operation in linear algebra, widely used in machine learning.\n",
    "- For two vectors of the same length, the dot product is the sum of the products of their corresponding elements.\n",
    "- In matrix notation, the dot product of vectors **a** and **b** is written as:  \n",
    "    **a · b = Σ aᵢbᵢ**\n",
    "- The dot product measures the similarity between two vectors; a higher value indicates greater alignment.\n",
    "- In neural networks, dot products are used to compute weighted sums in layers.\n",
    "- The dot product is used in calculating projections, cosine similarity, and in optimization algorithms.\n",
    "- For matrices, the dot product generalizes to matrix multiplication, which is essential for transforming data and weights in machine learning models.\n",
    "- The result of a dot product is a scalar (for vectors) or another matrix (for matrices).\n",
    "- The dot product is commutative for real-valued vectors: **a · b = b · a**."
   ]
  },
  {
   "cell_type": "code",
   "execution_count": 57,
   "id": "05cf95f1",
   "metadata": {},
   "outputs": [],
   "source": [
    "a=np.array([25,2,3])"
   ]
  },
  {
   "cell_type": "code",
   "execution_count": 54,
   "id": "11c62a31",
   "metadata": {},
   "outputs": [
    {
     "data": {
      "text/plain": [
       "(3,)"
      ]
     },
     "execution_count": 54,
     "metadata": {},
     "output_type": "execute_result"
    }
   ],
   "source": [
    "z=np.array([1,2,3])\n",
    "z\n",
    "z.shape"
   ]
  },
  {
   "cell_type": "code",
   "execution_count": 55,
   "id": "6754acd6",
   "metadata": {},
   "outputs": [
    {
     "data": {
      "text/plain": [
       "38"
      ]
     },
     "execution_count": 55,
     "metadata": {},
     "output_type": "execute_result"
    }
   ],
   "source": [
    "25*1+2*2+3*3"
   ]
  },
  {
   "cell_type": "code",
   "execution_count": 58,
   "id": "e2f38536",
   "metadata": {},
   "outputs": [
    {
     "data": {
      "text/plain": [
       "38"
      ]
     },
     "execution_count": 58,
     "metadata": {},
     "output_type": "execute_result"
    }
   ],
   "source": [
    "np.dot( a,z)"
   ]
  },
  {
   "cell_type": "code",
   "execution_count": 59,
   "id": "90dc9a99",
   "metadata": {},
   "outputs": [],
   "source": [
    "a_pt=torch.tensor(a)"
   ]
  },
  {
   "cell_type": "code",
   "execution_count": 60,
   "id": "85877c61",
   "metadata": {},
   "outputs": [
    {
     "data": {
      "text/plain": [
       "tensor([0, 1, 2])"
      ]
     },
     "execution_count": 60,
     "metadata": {},
     "output_type": "execute_result"
    }
   ],
   "source": [
    "z_pt = torch.tensor([0, 1, 2])\n",
    "z_pt"
   ]
  },
  {
   "cell_type": "code",
   "execution_count": 62,
   "id": "bbebf4ef",
   "metadata": {},
   "outputs": [
    {
     "data": {
      "text/plain": [
       "8"
      ]
     },
     "execution_count": 62,
     "metadata": {},
     "output_type": "execute_result"
    }
   ],
   "source": [
    "np.dot(a_pt, z_pt)"
   ]
  },
  {
   "cell_type": "code",
   "execution_count": 63,
   "id": "c9106b2f",
   "metadata": {},
   "outputs": [
    {
     "data": {
      "text/plain": [
       "tensor(12.)"
      ]
     },
     "execution_count": 63,
     "metadata": {},
     "output_type": "execute_result"
    }
   ],
   "source": [
    "torch.dot(torch.tensor([25, 2, 5.]), torch.tensor([0, 1, 2.]))"
   ]
  },
  {
   "cell_type": "code",
   "execution_count": null,
   "id": "4b6d4a2a",
   "metadata": {},
   "outputs": [],
   "source": [
    "x_tf"
   ]
  },
  {
   "cell_type": "code",
   "execution_count": null,
   "id": "8820831b",
   "metadata": {},
   "outputs": [],
   "source": [
    "y_tf = tf.Variable([0, 1, 2])\n",
    "y_tf"
   ]
  },
  {
   "cell_type": "code",
   "execution_count": null,
   "id": "2a7cdb88",
   "metadata": {},
   "outputs": [],
   "source": [
    "tf.reduce_sum(tf.multiply(x_tf, y_tf))"
   ]
  }
 ],
 "metadata": {
  "kernelspec": {
   "display_name": "Python 3",
   "language": "python",
   "name": "python3"
  },
  "language_info": {
   "codemirror_mode": {
    "name": "ipython",
    "version": 3
   },
   "file_extension": ".py",
   "mimetype": "text/x-python",
   "name": "python",
   "nbconvert_exporter": "python",
   "pygments_lexer": "ipython3",
   "version": "3.11.1"
  }
 },
 "nbformat": 4,
 "nbformat_minor": 5
}
