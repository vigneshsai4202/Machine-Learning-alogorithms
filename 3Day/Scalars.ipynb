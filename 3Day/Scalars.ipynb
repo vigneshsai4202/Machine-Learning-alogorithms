{
 "cells": [
  {
   "cell_type": "code",
   "execution_count": 1,
   "id": "db59833f",
   "metadata": {},
   "outputs": [
    {
     "data": {
      "text/plain": [
       "25"
      ]
     },
     "execution_count": 1,
     "metadata": {},
     "output_type": "execute_result"
    }
   ],
   "source": [
    "x=25\n",
    "x"
   ]
  },
  {
   "cell_type": "code",
   "execution_count": 2,
   "id": "6f0cad2e",
   "metadata": {},
   "outputs": [
    {
     "data": {
      "text/plain": [
       "int"
      ]
     },
     "execution_count": 2,
     "metadata": {},
     "output_type": "execute_result"
    }
   ],
   "source": [
    "type(x)"
   ]
  },
  {
   "cell_type": "code",
   "execution_count": 3,
   "id": "75855693",
   "metadata": {},
   "outputs": [],
   "source": [
    "y=3"
   ]
  },
  {
   "cell_type": "code",
   "execution_count": 4,
   "id": "5dbf9228",
   "metadata": {},
   "outputs": [
    {
     "data": {
      "text/plain": [
       "28"
      ]
     },
     "execution_count": 4,
     "metadata": {},
     "output_type": "execute_result"
    }
   ],
   "source": [
    "py_sum=x+y\n",
    "x+y"
   ]
  },
  {
   "cell_type": "code",
   "execution_count": 5,
   "id": "001f5797",
   "metadata": {},
   "outputs": [
    {
     "data": {
      "text/plain": [
       "30.0"
      ]
     },
     "execution_count": 5,
     "metadata": {},
     "output_type": "execute_result"
    }
   ],
   "source": [
    "x_float=25.0\n",
    "float_sum=x_float+5.0\n",
    "float_sum"
   ]
  },
  {
   "cell_type": "code",
   "execution_count": 6,
   "id": "a490420d",
   "metadata": {},
   "outputs": [
    {
     "data": {
      "text/plain": [
       "float"
      ]
     },
     "execution_count": 6,
     "metadata": {},
     "output_type": "execute_result"
    }
   ],
   "source": [
    "type(float_sum)"
   ]
  },
  {
   "cell_type": "markdown",
   "id": "c43ccd0a",
   "metadata": {},
   "source": [
    "Scalars in PyTorch\n",
    "-PyTorch and TensorFlow are the two most popular automatic differentiation libraries (a focus of the Calculus I and Calculus II subjects in the ML Foundations series) in Python, itself the most popular programming language in ML\n",
    "-PyTorch tensors are designed to be pythonic, i.e., to feel and behave like NumPy arrays\n",
    "-The advantage of PyTorch tensors relative to NumPy arrays is that they easily be used for operations on GPU (see here for example)\n",
    "-GPU Advantage: A key advantage of PyTorch tensors over NumPy arrays is that they can be easily used for operations on GPUs (Graphics Processing Units), which are widely used for training deep learning models.\n",
    "-Ease of Use-Fun to play around with it"
   ]
  },
  {
   "cell_type": "code",
   "execution_count": 7,
   "id": "a24cfbbe",
   "metadata": {},
   "outputs": [],
   "source": [
    "import torch"
   ]
  },
  {
   "cell_type": "code",
   "execution_count": null,
   "id": "f1a37030",
   "metadata": {},
   "outputs": [
    {
     "data": {
      "text/plain": [
       "tensor(25)"
      ]
     },
     "execution_count": 8,
     "metadata": {},
     "output_type": "execute_result"
    }
   ],
   "source": [
    "x_pt = torch.tensor(25) \n",
    "x_pt"
   ]
  },
  {
   "cell_type": "code",
   "execution_count": 10,
   "id": "69f796df",
   "metadata": {},
   "outputs": [
    {
     "data": {
      "text/plain": [
       "torch.Size([])"
      ]
     },
     "execution_count": 10,
     "metadata": {},
     "output_type": "execute_result"
    }
   ],
   "source": [
    "x_pt.shape"
   ]
  },
  {
   "cell_type": "markdown",
   "id": "0b5e1ae9",
   "metadata": {},
   "source": [
    "Scalars in TensorFlow\n",
    "-Tensors created with a wrapper\n",
    "-tf.Variable,tf.constant,tf.placeholder,tf.SparseTensor\n",
    "-Most widely-used is tf.Variable\n",
    "-As with TF tensors, in PyTorch we can similarly perform operations, and we can easily convert to and from NumPy arrays"
   ]
  },
  {
   "cell_type": "code",
   "execution_count": null,
   "id": "a958d465",
   "metadata": {},
   "outputs": [],
   "source": [
    "import tensorflow as tf"
   ]
  },
  {
   "cell_type": "code",
   "execution_count": null,
   "id": "d0b51a95",
   "metadata": {},
   "outputs": [],
   "source": [
    "x_tf = tf.Variable(25, dtype=tf.int16) # dtype is optional\n",
    "x_tf"
   ]
  },
  {
   "cell_type": "code",
   "execution_count": null,
   "id": "07ca5385",
   "metadata": {},
   "outputs": [],
   "source": [
    "x_tf.shape"
   ]
  },
  {
   "cell_type": "code",
   "execution_count": null,
   "id": "4b1cafe5",
   "metadata": {},
   "outputs": [],
   "source": [
    "y_tf = tf.Variable(3, dtype=tf.int16)"
   ]
  },
  {
   "cell_type": "code",
   "execution_count": null,
   "id": "c099d50f",
   "metadata": {},
   "outputs": [],
   "source": [
    "x_tf + y_tf"
   ]
  },
  {
   "cell_type": "code",
   "execution_count": null,
   "id": "94753c77",
   "metadata": {},
   "outputs": [],
   "source": [
    "tf_sum = tf.add(x_tf, y_tf)\n",
    "tf_sum"
   ]
  },
  {
   "cell_type": "code",
   "execution_count": null,
   "id": "a20d4924",
   "metadata": {},
   "outputs": [],
   "source": [
    "tf_sum.numpy() # note that NumPy operations automatically convert tensors to NumPy arrays, and vice versa"
   ]
  },
  {
   "cell_type": "code",
   "execution_count": null,
   "id": "83e667b4",
   "metadata": {},
   "outputs": [],
   "source": [
    "type(tf_sum.numpy())"
   ]
  },
  {
   "cell_type": "code",
   "execution_count": null,
   "id": "4ffbca9a",
   "metadata": {},
   "outputs": [],
   "source": [
    "type(tf_sum.numpy())"
   ]
  }
 ],
 "metadata": {
  "kernelspec": {
   "display_name": "Python 3",
   "language": "python",
   "name": "python3"
  },
  "language_info": {
   "codemirror_mode": {
    "name": "ipython",
    "version": 3
   },
   "file_extension": ".py",
   "mimetype": "text/x-python",
   "name": "python",
   "nbconvert_exporter": "python",
   "pygments_lexer": "ipython3",
   "version": "3.11.1"
  }
 },
 "nbformat": 4,
 "nbformat_minor": 5
}
